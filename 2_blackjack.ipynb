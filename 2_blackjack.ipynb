{
 "cells": [
  {
   "cell_type": "markdown",
   "metadata": {},
   "source": [
    "# Blackjack\n",
    "\n",
    "`通过这个实验，了解Model Free的Monte Carlo的planning和controlling`\n",
    "\n",
    "所有的实验源代码都在`lib`目录下，来自[dennybritz](https://github.com/dennybritz/reinforcement-learning)，这里只做解读和归总。\n",
    "\n",
    "## 实验目录\n",
    "\n",
    "- [Gridworld](https://applenob.github.io/gridworld.html)\n",
    "- [Blackjack](https://applenob.github.io/black_jack.html)\n",
    "- [Cliff Walking](https://applenob.github.io/cliff_walking.html)\n",
    "- [Windy Gridworld](https://applenob.github.io/windy_gridworld.html)\n",
    "\n",
    "\n",
    "## 本文目录\n",
    "\n",
    "- [问题介绍](#问题介绍)\n",
    "- [Policy Evaluation](#Policy-Evaluation)\n",
    "- [Policy Iteration](#Policy-Iteration)\n",
    "- [Value Iteration](#Value-Iteration)"
   ]
  },
  {
   "cell_type": "markdown",
   "metadata": {},
   "source": [
    "## 问题介绍\n",
    "\n"
   ]
  },
  {
   "cell_type": "code",
   "execution_count": null,
   "metadata": {
    "collapsed": true
   },
   "outputs": [],
   "source": []
  },
  {
   "cell_type": "code",
   "execution_count": null,
   "metadata": {
    "collapsed": true
   },
   "outputs": [],
   "source": []
  }
 ],
 "metadata": {
  "kernelspec": {
   "display_name": "Python [conda env:py35]",
   "language": "python",
   "name": "conda-env-py35-py"
  },
  "language_info": {
   "codemirror_mode": {
    "name": "ipython",
    "version": 3
   },
   "file_extension": ".py",
   "mimetype": "text/x-python",
   "name": "python",
   "nbconvert_exporter": "python",
   "pygments_lexer": "ipython3",
   "version": "3.5.2"
  }
 },
 "nbformat": 4,
 "nbformat_minor": 1
}
