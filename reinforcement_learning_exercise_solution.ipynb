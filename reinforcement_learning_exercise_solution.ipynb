{
 "cells": [
  {
   "cell_type": "markdown",
   "metadata": {},
   "source": [
    "# 《Reinforcement Learning, Second Edition 2018》练习的解答\n",
    "\n",
    "这部分是我对2018年第二版的书本上的练习的个人尝试解答。"
   ]
  },
  {
   "cell_type": "markdown",
   "metadata": {},
   "source": []
  },
  {
   "cell_type": "markdown",
   "metadata": {},
   "source": []
  },
  {
   "cell_type": "markdown",
   "metadata": {},
   "source": [
    "### Chapter 3\n",
    "\n",
    "### Exercise 3.12\n",
    "\n",
    "在这里选择的策略是四个方向上等概率移动，因此：$\\pi(a|s) = \\frac{1}{4}$，且给定s和a，s'和r也是固定的。在这个问题中，r都是0，$p(s',r|s,a)=1$。\n",
    "\n",
    "代入Bellman Equation：\n",
    "$$v_{\\pi}(s) = \\sum_a\\pi(a|s)\\sum_{s',r}p(s',r|s,a)[r+\\gamma v_{\\pi}(s')] \\\\=\\frac{1}{4}*1*(0+0.9*0.4) + \\frac{1}{4}*1*(0+0.9*-0.4) + \\frac{1}{4}*1*(0+0.9*0.7) + \\frac{1}{4}*1*(0+0.9*2.3)=0.675$$\n",
    "保留一位小数为0.7，和图中一样。"
   ]
  },
  {
   "cell_type": "markdown",
   "metadata": {},
   "source": [
    "### Exercise 3.15\n",
    "\n",
    "$$q_{\\pi}(s,a) = \\sum_{s'}p(s',r|s,a)[r+\\gamma \\sum_{a'}q(s',a')]$$    "
   ]
  },
  {
   "cell_type": "code",
   "execution_count": null,
   "metadata": {},
   "outputs": [],
   "source": []
  },
  {
   "cell_type": "code",
   "execution_count": null,
   "metadata": {},
   "outputs": [],
   "source": []
  },
  {
   "cell_type": "code",
   "execution_count": null,
   "metadata": {},
   "outputs": [],
   "source": []
  },
  {
   "cell_type": "code",
   "execution_count": null,
   "metadata": {},
   "outputs": [],
   "source": []
  },
  {
   "cell_type": "code",
   "execution_count": null,
   "metadata": {},
   "outputs": [],
   "source": []
  }
 ],
 "metadata": {
  "kernelspec": {
   "display_name": "Python 3",
   "language": "python",
   "name": "python3"
  },
  "language_info": {
   "codemirror_mode": {
    "name": "ipython",
    "version": 3
   },
   "file_extension": ".py",
   "mimetype": "text/x-python",
   "name": "python",
   "nbconvert_exporter": "python",
   "pygments_lexer": "ipython3",
   "version": "3.6.4"
  }
 },
 "nbformat": 4,
 "nbformat_minor": 2
}
